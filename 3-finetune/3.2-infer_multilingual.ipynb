{
 "cells": [
  {
   "cell_type": "code",
   "execution_count": 1,
   "id": "b20564e3-8c9e-4201-aae9-f18005223c78",
   "metadata": {
    "execution": {
     "iopub.execute_input": "2022-08-06T03:10:01.395013Z",
     "iopub.status.busy": "2022-08-06T03:10:01.393852Z",
     "iopub.status.idle": "2022-08-06T03:10:01.400488Z",
     "shell.execute_reply": "2022-08-06T03:10:01.399662Z",
     "shell.execute_reply.started": "2022-08-06T03:10:01.394968Z"
    },
    "scrolled": true,
    "tags": []
   },
   "outputs": [
    {
     "name": "stdout",
     "output_type": "stream",
     "text": [
      "/home/aistudio/work\n"
     ]
    }
   ],
   "source": [
    "%cd /home/aistudio/work/"
   ]
  },
  {
   "cell_type": "code",
   "execution_count": 2,
   "id": "378bded6-9eb3-417c-bcc6-7951babb3f73",
   "metadata": {
    "execution": {
     "iopub.execute_input": "2022-08-06T03:10:01.402677Z",
     "iopub.status.busy": "2022-08-06T03:10:01.402016Z",
     "iopub.status.idle": "2022-08-06T03:10:03.869293Z",
     "shell.execute_reply": "2022-08-06T03:10:03.868228Z",
     "shell.execute_reply.started": "2022-08-06T03:10:01.402648Z"
    },
    "scrolled": true,
    "tags": []
   },
   "outputs": [
    {
     "name": "stdout",
     "output_type": "stream",
     "text": [
      "Looking in indexes: https://pypi.tuna.tsinghua.edu.cn/simple\n",
      "Requirement already satisfied: paddlenlp==2.3.4 in /opt/conda/envs/python35-paddle120-env/lib/python3.7/site-packages (2.3.4)\n",
      "Requirement already satisfied: jieba in /opt/conda/envs/python35-paddle120-env/lib/python3.7/site-packages (from paddlenlp==2.3.4) (0.42.1)\n",
      "Requirement already satisfied: sentencepiece in /opt/conda/envs/python35-paddle120-env/lib/python3.7/site-packages (from paddlenlp==2.3.4) (0.1.96)\n",
      "Requirement already satisfied: paddlefsl in /opt/conda/envs/python35-paddle120-env/lib/python3.7/site-packages (from paddlenlp==2.3.4) (1.1.0)\n",
      "Requirement already satisfied: paddle2onnx in /opt/conda/envs/python35-paddle120-env/lib/python3.7/site-packages (from paddlenlp==2.3.4) (0.9.8)\n",
      "Requirement already satisfied: dill<0.3.5 in /opt/conda/envs/python35-paddle120-env/lib/python3.7/site-packages (from paddlenlp==2.3.4) (0.3.3)\n",
      "Requirement already satisfied: seqeval in /opt/conda/envs/python35-paddle120-env/lib/python3.7/site-packages (from paddlenlp==2.3.4) (1.2.2)\n",
      "Requirement already satisfied: tqdm in /opt/conda/envs/python35-paddle120-env/lib/python3.7/site-packages (from paddlenlp==2.3.4) (4.64.0)\n",
      "Requirement already satisfied: datasets>=2.0.0 in /opt/conda/envs/python35-paddle120-env/lib/python3.7/site-packages (from paddlenlp==2.3.4) (2.4.0)\n",
      "Requirement already satisfied: protobuf<=3.20.0,>=3.1.0 in /opt/conda/envs/python35-paddle120-env/lib/python3.7/site-packages (from paddlenlp==2.3.4) (3.20.0)\n",
      "Requirement already satisfied: multiprocess<=0.70.12.2 in /opt/conda/envs/python35-paddle120-env/lib/python3.7/site-packages (from paddlenlp==2.3.4) (0.70.11.1)\n",
      "Requirement already satisfied: colorama in /opt/conda/envs/python35-paddle120-env/lib/python3.7/site-packages (from paddlenlp==2.3.4) (0.4.4)\n",
      "Requirement already satisfied: colorlog in /opt/conda/envs/python35-paddle120-env/lib/python3.7/site-packages (from paddlenlp==2.3.4) (4.1.0)\n",
      "Requirement already satisfied: fsspec[http]>=2021.11.1 in /opt/conda/envs/python35-paddle120-env/lib/python3.7/site-packages (from datasets>=2.0.0->paddlenlp==2.3.4) (2022.7.1)\n",
      "Requirement already satisfied: aiohttp in /opt/conda/envs/python35-paddle120-env/lib/python3.7/site-packages (from datasets>=2.0.0->paddlenlp==2.3.4) (3.8.1)\n",
      "Requirement already satisfied: pyarrow>=6.0.0 in /opt/conda/envs/python35-paddle120-env/lib/python3.7/site-packages (from datasets>=2.0.0->paddlenlp==2.3.4) (9.0.0)\n",
      "Requirement already satisfied: xxhash in /opt/conda/envs/python35-paddle120-env/lib/python3.7/site-packages (from datasets>=2.0.0->paddlenlp==2.3.4) (3.0.0)\n",
      "Requirement already satisfied: huggingface-hub<1.0.0,>=0.1.0 in /opt/conda/envs/python35-paddle120-env/lib/python3.7/site-packages (from datasets>=2.0.0->paddlenlp==2.3.4) (0.8.1)\n",
      "Requirement already satisfied: numpy>=1.17 in /opt/conda/envs/python35-paddle120-env/lib/python3.7/site-packages (from datasets>=2.0.0->paddlenlp==2.3.4) (1.19.5)\n",
      "Requirement already satisfied: requests>=2.19.0 in /opt/conda/envs/python35-paddle120-env/lib/python3.7/site-packages (from datasets>=2.0.0->paddlenlp==2.3.4) (2.24.0)\n",
      "Requirement already satisfied: importlib-metadata in /opt/conda/envs/python35-paddle120-env/lib/python3.7/site-packages (from datasets>=2.0.0->paddlenlp==2.3.4) (4.2.0)\n",
      "Requirement already satisfied: pandas in /opt/conda/envs/python35-paddle120-env/lib/python3.7/site-packages (from datasets>=2.0.0->paddlenlp==2.3.4) (1.1.5)\n",
      "Requirement already satisfied: packaging in /opt/conda/envs/python35-paddle120-env/lib/python3.7/site-packages (from datasets>=2.0.0->paddlenlp==2.3.4) (21.3)\n",
      "Requirement already satisfied: responses<0.19 in /opt/conda/envs/python35-paddle120-env/lib/python3.7/site-packages (from datasets>=2.0.0->paddlenlp==2.3.4) (0.18.0)\n",
      "Requirement already satisfied: scikit-learn>=0.21.3 in /opt/conda/envs/python35-paddle120-env/lib/python3.7/site-packages (from seqeval->paddlenlp==2.3.4) (0.24.2)\n",
      "Requirement already satisfied: pyyaml>=5.1 in /opt/conda/envs/python35-paddle120-env/lib/python3.7/site-packages (from huggingface-hub<1.0.0,>=0.1.0->datasets>=2.0.0->paddlenlp==2.3.4) (5.1.2)\n",
      "Requirement already satisfied: filelock in /opt/conda/envs/python35-paddle120-env/lib/python3.7/site-packages (from huggingface-hub<1.0.0,>=0.1.0->datasets>=2.0.0->paddlenlp==2.3.4) (3.0.12)\n",
      "Requirement already satisfied: typing-extensions>=3.7.4.3 in /opt/conda/envs/python35-paddle120-env/lib/python3.7/site-packages (from huggingface-hub<1.0.0,>=0.1.0->datasets>=2.0.0->paddlenlp==2.3.4) (4.3.0)\n",
      "Requirement already satisfied: pyparsing!=3.0.5,>=2.0.2 in /opt/conda/envs/python35-paddle120-env/lib/python3.7/site-packages (from packaging->datasets>=2.0.0->paddlenlp==2.3.4) (3.0.9)\n",
      "Requirement already satisfied: chardet<4,>=3.0.2 in /opt/conda/envs/python35-paddle120-env/lib/python3.7/site-packages (from requests>=2.19.0->datasets>=2.0.0->paddlenlp==2.3.4) (3.0.4)\n",
      "Requirement already satisfied: urllib3!=1.25.0,!=1.25.1,<1.26,>=1.21.1 in /opt/conda/envs/python35-paddle120-env/lib/python3.7/site-packages (from requests>=2.19.0->datasets>=2.0.0->paddlenlp==2.3.4) (1.25.11)\n",
      "Requirement already satisfied: idna<3,>=2.5 in /opt/conda/envs/python35-paddle120-env/lib/python3.7/site-packages (from requests>=2.19.0->datasets>=2.0.0->paddlenlp==2.3.4) (2.8)\n",
      "Requirement already satisfied: certifi>=2017.4.17 in /opt/conda/envs/python35-paddle120-env/lib/python3.7/site-packages (from requests>=2.19.0->datasets>=2.0.0->paddlenlp==2.3.4) (2019.9.11)\n",
      "Requirement already satisfied: threadpoolctl>=2.0.0 in /opt/conda/envs/python35-paddle120-env/lib/python3.7/site-packages (from scikit-learn>=0.21.3->seqeval->paddlenlp==2.3.4) (2.1.0)\n",
      "Requirement already satisfied: scipy>=0.19.1 in /opt/conda/envs/python35-paddle120-env/lib/python3.7/site-packages (from scikit-learn>=0.21.3->seqeval->paddlenlp==2.3.4) (1.6.3)\n",
      "Requirement already satisfied: joblib>=0.11 in /opt/conda/envs/python35-paddle120-env/lib/python3.7/site-packages (from scikit-learn>=0.21.3->seqeval->paddlenlp==2.3.4) (0.14.1)\n",
      "Requirement already satisfied: aiosignal>=1.1.2 in /opt/conda/envs/python35-paddle120-env/lib/python3.7/site-packages (from aiohttp->datasets>=2.0.0->paddlenlp==2.3.4) (1.2.0)\n",
      "Requirement already satisfied: attrs>=17.3.0 in /opt/conda/envs/python35-paddle120-env/lib/python3.7/site-packages (from aiohttp->datasets>=2.0.0->paddlenlp==2.3.4) (21.4.0)\n",
      "Requirement already satisfied: multidict<7.0,>=4.5 in /opt/conda/envs/python35-paddle120-env/lib/python3.7/site-packages (from aiohttp->datasets>=2.0.0->paddlenlp==2.3.4) (6.0.2)\n",
      "Requirement already satisfied: frozenlist>=1.1.1 in /opt/conda/envs/python35-paddle120-env/lib/python3.7/site-packages (from aiohttp->datasets>=2.0.0->paddlenlp==2.3.4) (1.3.1)\n",
      "Requirement already satisfied: async-timeout<5.0,>=4.0.0a3 in /opt/conda/envs/python35-paddle120-env/lib/python3.7/site-packages (from aiohttp->datasets>=2.0.0->paddlenlp==2.3.4) (4.0.2)\n",
      "Requirement already satisfied: asynctest==0.13.0 in /opt/conda/envs/python35-paddle120-env/lib/python3.7/site-packages (from aiohttp->datasets>=2.0.0->paddlenlp==2.3.4) (0.13.0)\n",
      "Requirement already satisfied: yarl<2.0,>=1.0 in /opt/conda/envs/python35-paddle120-env/lib/python3.7/site-packages (from aiohttp->datasets>=2.0.0->paddlenlp==2.3.4) (1.8.1)\n",
      "Requirement already satisfied: charset-normalizer<3.0,>=2.0 in /opt/conda/envs/python35-paddle120-env/lib/python3.7/site-packages (from aiohttp->datasets>=2.0.0->paddlenlp==2.3.4) (2.1.0)\n",
      "Requirement already satisfied: zipp>=0.5 in /opt/conda/envs/python35-paddle120-env/lib/python3.7/site-packages (from importlib-metadata->datasets>=2.0.0->paddlenlp==2.3.4) (3.8.1)\n",
      "Requirement already satisfied: python-dateutil>=2.7.3 in /opt/conda/envs/python35-paddle120-env/lib/python3.7/site-packages (from pandas->datasets>=2.0.0->paddlenlp==2.3.4) (2.8.2)\n",
      "Requirement already satisfied: pytz>=2017.2 in /opt/conda/envs/python35-paddle120-env/lib/python3.7/site-packages (from pandas->datasets>=2.0.0->paddlenlp==2.3.4) (2019.3)\n",
      "Requirement already satisfied: six>=1.5 in /opt/conda/envs/python35-paddle120-env/lib/python3.7/site-packages (from python-dateutil>=2.7.3->pandas->datasets>=2.0.0->paddlenlp==2.3.4) (1.16.0)\n",
      "\n",
      "\u001b[1m[\u001b[0m\u001b[34;49mnotice\u001b[0m\u001b[1;39;49m]\u001b[0m\u001b[39;49m A new release of pip available: \u001b[0m\u001b[31;49m22.1.2\u001b[0m\u001b[39;49m -> \u001b[0m\u001b[32;49m22.2.2\u001b[0m\n",
      "\u001b[1m[\u001b[0m\u001b[34;49mnotice\u001b[0m\u001b[1;39;49m]\u001b[0m\u001b[39;49m To update, run: \u001b[0m\u001b[32;49mpip install --upgrade pip\u001b[0m\n"
     ]
    }
   ],
   "source": [
    "!pip install --upgrade paddlenlp==2.3.4"
   ]
  },
  {
   "cell_type": "code",
   "execution_count": 3,
   "id": "7c7239b3-59c4-4012-816a-684daec253b4",
   "metadata": {
    "execution": {
     "iopub.execute_input": "2022-08-06T03:10:03.871452Z",
     "iopub.status.busy": "2022-08-06T03:10:03.870771Z",
     "iopub.status.idle": "2022-08-06T03:10:06.868401Z",
     "shell.execute_reply": "2022-08-06T03:10:06.867444Z",
     "shell.execute_reply.started": "2022-08-06T03:10:03.871417Z"
    },
    "scrolled": true,
    "tags": []
   },
   "outputs": [],
   "source": [
    "from scipy.special import softmax\n",
    "from scipy import spatial\n",
    "import os\n",
    "import paddle\n",
    "from paddle import inference\n",
    "import paddlenlp as ppnlp\n",
    "from paddlenlp.data import Tuple, Pad"
   ]
  },
  {
   "cell_type": "code",
   "execution_count": 4,
   "id": "2c154fc9-917b-42f2-bc0d-b954a2de9dc6",
   "metadata": {
    "execution": {
     "iopub.execute_input": "2022-08-06T03:10:06.871467Z",
     "iopub.status.busy": "2022-08-06T03:10:06.870495Z",
     "iopub.status.idle": "2022-08-06T03:10:06.876636Z",
     "shell.execute_reply": "2022-08-06T03:10:06.875907Z",
     "shell.execute_reply.started": "2022-08-06T03:10:06.871431Z"
    },
    "scrolled": true,
    "tags": []
   },
   "outputs": [],
   "source": [
    "def convert_example_recall_infer(example,\n",
    "                    tokenizer,\n",
    "                    max_seq_length=512,\n",
    "                    pad_to_max_seq_len=False):\n",
    "    \"\"\"\n",
    "    Builds model inputs from a sequence.\n",
    "        \n",
    "    A BERT sequence has the following format:\n",
    "    - single sequence: ``[CLS] X [SEP]``\n",
    "    Args:\n",
    "        example(obj:`list(str)`): The list of text to be converted to ids.\n",
    "        tokenizer(obj:`PretrainedTokenizer`): This tokenizer inherits from :class:`~paddlenlp.transformers.PretrainedTokenizer` \n",
    "            which contains most of the methods. Users should refer to the superclass for more information regarding methods.\n",
    "        max_seq_len(obj:`int`): The maximum total input sequence length after tokenization. \n",
    "            Sequences longer than this will be truncated, sequences shorter will be padded.\n",
    "        is_test(obj:`False`, defaults to `False`): Whether the example contains label or not.\n",
    "    Returns:\n",
    "        input_ids(obj:`list[int]`): The list of query token ids.\n",
    "        token_type_ids(obj: `list[int]`): List of query sequence pair mask.\n",
    "    \"\"\"\n",
    "\n",
    "    result = []\n",
    "    for key, text in example.items():\n",
    "        encoded_inputs = tokenizer(\n",
    "            text=text,\n",
    "            max_seq_len=max_seq_length,\n",
    "            pad_to_max_seq_len=pad_to_max_seq_len)\n",
    "        input_ids = encoded_inputs[\"input_ids\"]\n",
    "        result += [input_ids]\n",
    "    return result"
   ]
  },
  {
   "cell_type": "code",
   "execution_count": 5,
   "id": "71f8ae02-6ac8-44e3-97c0-1f79f3ee4591",
   "metadata": {
    "execution": {
     "iopub.execute_input": "2022-08-06T03:10:06.878257Z",
     "iopub.status.busy": "2022-08-06T03:10:06.877797Z",
     "iopub.status.idle": "2022-08-06T03:10:07.916527Z",
     "shell.execute_reply": "2022-08-06T03:10:07.915549Z",
     "shell.execute_reply.started": "2022-08-06T03:10:06.878231Z"
    },
    "scrolled": true,
    "tags": []
   },
   "outputs": [
    {
     "name": "stderr",
     "output_type": "stream",
     "text": [
      "[2022-08-06 11:10:06,880] [    INFO] - We are using <class 'paddlenlp.transformers.ernie_m.tokenizer.ErnieMTokenizer'> to load 'ernie-m-large'.\n",
      "[2022-08-06 11:10:06,883] [    INFO] - Already cached /home/aistudio/.paddlenlp/models/ernie-m-large/ernie_m.vocab.txt\n",
      "[2022-08-06 11:10:06,885] [    INFO] - Already cached /home/aistudio/.paddlenlp/models/ernie-m-large/ernie_m.sentencepiece.bpe.model\n",
      "[2022-08-06 11:10:07,877] [    INFO] - tokenizer config file saved in /home/aistudio/.paddlenlp/models/ernie-m-large/tokenizer_config.json\n",
      "[2022-08-06 11:10:07,880] [    INFO] - Special tokens file saved in /home/aistudio/.paddlenlp/models/ernie-m-large/special_tokens_map.json\n"
     ]
    }
   ],
   "source": [
    "tokenizer = ppnlp.transformers.AutoTokenizer.from_pretrained('ernie-m-large')"
   ]
  },
  {
   "cell_type": "code",
   "execution_count": 19,
   "id": "655e0192-4408-4ab4-9787-f0421624bd00",
   "metadata": {
    "execution": {
     "iopub.execute_input": "2022-08-06T03:16:13.556124Z",
     "iopub.status.busy": "2022-08-06T03:16:13.555650Z",
     "iopub.status.idle": "2022-08-06T03:16:13.567813Z",
     "shell.execute_reply": "2022-08-06T03:16:13.567001Z",
     "shell.execute_reply.started": "2022-08-06T03:16:13.556088Z"
    },
    "scrolled": true,
    "tags": []
   },
   "outputs": [],
   "source": [
    "class RecallPredictor(object):\n",
    "    def __init__(self,\n",
    "                 model_dir,\n",
    "                 device=\"gpu\",\n",
    "                 max_seq_length=128,\n",
    "                 batch_size=32,\n",
    "                 use_tensorrt=False,\n",
    "                 precision=\"fp32\",\n",
    "                 cpu_threads=10,\n",
    "                 enable_mkldnn=False):\n",
    "        self.max_seq_length = max_seq_length\n",
    "        self.batch_size = batch_size\n",
    "\n",
    "        model_file = model_dir + \"/model.get_pooled_embedding.pdmodel\"\n",
    "        params_file = model_dir + \"/model.get_pooled_embedding.pdiparams\"\n",
    "        if not os.path.exists(model_file):\n",
    "            raise ValueError(\"not find model file path {}\".format(model_file))\n",
    "        if not os.path.exists(params_file):\n",
    "            raise ValueError(\"not find params file path {}\".format(params_file))\n",
    "        config = paddle.inference.Config(model_file, params_file)\n",
    "\n",
    "        # 去除 Paddle Inference 运行中的 LOG\n",
    "        config.disable_glog_info()\n",
    "\n",
    "        if device == \"gpu\":\n",
    "            # set GPU configs accordingly\n",
    "            # such as intialize the gpu memory, enable tensorrt\n",
    "            config.enable_use_gpu(100, 0)\n",
    "            precision_map = {\n",
    "                \"fp16\": inference.PrecisionType.Half,\n",
    "                \"fp32\": inference.PrecisionType.Float32,\n",
    "                \"int8\": inference.PrecisionType.Int8\n",
    "            }\n",
    "            precision_mode = precision_map[precision]\n",
    "\n",
    "            if use_tensorrt:\n",
    "                config.enable_tensorrt_engine(\n",
    "                    max_batch_size=batch_size,\n",
    "                    min_subgraph_size=30,\n",
    "                    precision_mode=precision_mode)\n",
    "        elif device == \"cpu\":\n",
    "            # set CPU configs accordingly,\n",
    "            # such as enable_mkldnn, set_cpu_math_library_num_threads\n",
    "            config.disable_gpu()\n",
    "        elif device == \"xpu\":\n",
    "            # set XPU configs accordingly\n",
    "            config.enable_xpu(100)\n",
    "\n",
    "        config.switch_use_feed_fetch_ops(False)\n",
    "        self.predictor = paddle.inference.create_predictor(config)\n",
    "        self.input_handles = [\n",
    "            self.predictor.get_input_handle(name)\n",
    "            for name in self.predictor.get_input_names()\n",
    "        ]\n",
    "        self.output_handle = self.predictor.get_output_handle(\n",
    "            self.predictor.get_output_names()[0])\n",
    "\n",
    "    def extract_embedding(self, data, tokenizer):\n",
    "        \"\"\"\n",
    "        Predicts the data labels.\n",
    "        Args:\n",
    "            data (obj:`List(str)`): The batch data whose each element is a raw text.\n",
    "            tokenizer(obj:`PretrainedTokenizer`): This tokenizer inherits from :class:`~paddlenlp.transformers.PretrainedTokenizer` \n",
    "                which contains most of the methods. Users should refer to the superclass for more information regarding methods.\n",
    "        Returns:\n",
    "            results(obj:`dict`): All the feature vectors.\n",
    "        \"\"\"\n",
    "\n",
    "        examples = []\n",
    "        for text in data:\n",
    "            input_ids = convert_example_recall_infer(text, tokenizer)\n",
    "            examples.append((input_ids))\n",
    "\n",
    "        batchify_fn = lambda samples, fn=Tuple(\n",
    "            Pad(axis=0, pad_val=tokenizer.pad_token_id)  # input\n",
    "        ): fn(samples)\n",
    "\n",
    "        input_ids = batchify_fn(examples)\n",
    "        self.input_handles[0].copy_from_cpu(input_ids[0])\n",
    "        self.predictor.run()\n",
    "        logits = self.output_handle.copy_to_cpu()\n",
    "        return logits"
   ]
  },
  {
   "cell_type": "code",
   "execution_count": 20,
   "id": "1bd269e8-85cc-4e71-86af-9daca6556034",
   "metadata": {
    "execution": {
     "iopub.execute_input": "2022-08-06T03:16:13.569551Z",
     "iopub.status.busy": "2022-08-06T03:16:13.569172Z",
     "iopub.status.idle": "2022-08-06T03:16:17.749730Z",
     "shell.execute_reply": "2022-08-06T03:16:17.748927Z",
     "shell.execute_reply.started": "2022-08-06T03:16:13.569525Z"
    },
    "scrolled": true,
    "tags": []
   },
   "outputs": [
    {
     "name": "stdout",
     "output_type": "stream",
     "text": [
      "抽取向量\n",
      "(1, 256)\n",
      "[[-3.20681594e-02 -5.39870933e-02 -9.69525985e-03  2.57075019e-03\n",
      "  -7.77711160e-03 -1.13376260e-01  9.74038616e-02  9.69490781e-03\n",
      "   2.52382103e-02 -5.15156006e-03  3.59854363e-02 -7.20969439e-02\n",
      "  -6.31656796e-02  2.94445213e-02  7.01667136e-03 -2.27558576e-02\n",
      "  -3.98861282e-02  6.65646642e-02 -1.37818217e-01 -8.05629641e-02\n",
      "   2.59946566e-03 -3.53311375e-02  5.13674952e-02 -3.64249535e-02\n",
      "  -3.71851698e-02  5.35244159e-02 -1.21604256e-01  5.70073128e-02\n",
      "  -1.21392468e-02  8.23013708e-02  1.77799948e-02  2.76519656e-02\n",
      "   1.43378183e-01  6.22088686e-02 -2.44487207e-02 -9.31761563e-02\n",
      "   6.88312203e-02 -3.36401165e-03  8.92427564e-02  1.07140549e-01\n",
      "  -7.50251487e-02 -1.04777468e-03 -2.86020953e-02  1.31616309e-01\n",
      "   9.96566117e-02  7.78597267e-03 -1.58476771e-03  6.43920824e-02\n",
      "  -3.88049856e-02  3.75183821e-02 -7.91258439e-02 -1.43461749e-01\n",
      "  -9.43054706e-02 -3.86505090e-02 -1.64448261e-01 -1.05868347e-01\n",
      "  -6.91526011e-02  7.29759261e-02 -3.57532389e-02 -3.20015550e-02\n",
      "   5.51929101e-02 -9.95183643e-03  8.93638879e-02 -3.70618477e-02\n",
      "   9.28535834e-02  1.29341990e-01 -4.83094491e-02  4.26312489e-03\n",
      "  -4.93987696e-03 -5.26931360e-02 -4.01280168e-03 -7.03181978e-03\n",
      "   5.95918670e-02 -6.24010451e-02  1.43828884e-01  4.37594093e-02\n",
      "  -4.48774472e-02 -9.76743773e-02  1.33648072e-03  8.24199896e-03\n",
      "  -1.63271576e-02 -2.33699791e-02  2.97389999e-02  7.68604055e-02\n",
      "  -4.40044776e-02 -3.19784954e-02 -2.27990989e-02 -1.39633464e-02\n",
      "  -3.60692479e-02 -2.14646347e-02  1.52236111e-02  4.28880304e-02\n",
      "  -5.55573143e-02 -1.22156246e-02  1.51052415e-01  6.66615292e-02\n",
      "  -6.07703179e-02  2.53802445e-02  7.93531910e-03  2.69361143e-03\n",
      "   3.15156649e-03 -2.67466251e-02  3.14306132e-02  9.07567367e-02\n",
      "  -4.11726627e-03  8.41941386e-02  7.02418610e-02  3.28796655e-02\n",
      "  -2.48957761e-02 -6.82189241e-02  3.25342827e-02  7.03217238e-02\n",
      "   5.40487794e-03 -2.70092990e-02 -2.23342124e-02  1.32314693e-02\n",
      "  -4.04153951e-03 -4.97165099e-02  2.76109315e-02 -7.19799101e-03\n",
      "   1.09962644e-02 -6.23776652e-02  1.02219865e-01 -5.90352938e-02\n",
      "   4.49315719e-02 -6.95346575e-03 -1.32024493e-02  2.03875676e-01\n",
      "   4.73522544e-02 -4.29102890e-02  2.93159895e-02  8.42996687e-02\n",
      "   2.44608484e-02  3.49417678e-04  7.50967488e-02 -1.34129738e-02\n",
      "   2.53574140e-02 -4.21103975e-03 -3.27027068e-02  3.92173789e-02\n",
      "   9.02148858e-02 -2.20398456e-02  2.86186393e-02  3.42137441e-02\n",
      "   3.12668160e-02 -3.07745170e-02  4.51140217e-02 -1.37268826e-02\n",
      "   1.28364963e-02 -1.21056596e-02  4.38860059e-03 -6.42003119e-02\n",
      "  -5.77970892e-02  3.52797210e-02  2.20797192e-02  6.20271340e-02\n",
      "  -1.28528714e-01 -8.18014070e-02 -5.61207393e-03  5.98906577e-02\n",
      "   5.58829159e-02 -5.41392528e-02  2.71380618e-02  4.92903069e-02\n",
      "   1.15036719e-01  3.77946571e-02 -2.14502830e-02 -3.92376259e-02\n",
      "   6.02520108e-02  8.95231217e-03  1.72061130e-01  6.30513653e-02\n",
      "  -5.16531244e-02  5.09772003e-02 -3.63056995e-02 -1.09751159e-02\n",
      "   4.49834950e-02 -6.96496964e-02  6.73396373e-03 -8.17559510e-02\n",
      "  -3.85975391e-02 -4.30913158e-02  8.93796906e-02 -7.40545522e-03\n",
      "   3.75014767e-02 -3.49909253e-02 -2.22005136e-02  1.24112912e-03\n",
      "  -1.31187633e-01 -1.00247171e-02  3.13983299e-02 -5.52172661e-02\n",
      "   5.53377457e-02 -2.57924646e-02 -9.11110938e-02  7.08689094e-02\n",
      "   1.65360998e-02 -8.50770593e-05 -4.21191715e-02  8.95422027e-02\n",
      "  -3.30690555e-02 -8.05591978e-03 -3.52975316e-02 -4.68650982e-02\n",
      "   4.66395430e-02  1.11501150e-01 -1.19039170e-01 -5.05989091e-03\n",
      "   1.10486813e-01  7.07029775e-02  8.65554810e-02  6.27946779e-02\n",
      "   9.40565690e-02  1.10429921e-03  1.47958472e-02 -2.12304872e-02\n",
      "  -9.33499485e-02  5.81427142e-02  6.19727746e-03 -1.04350615e-02\n",
      "  -9.75674298e-03  6.98601678e-02  3.93650644e-02 -4.89722118e-02\n",
      "   2.38046120e-03 -7.92233571e-02 -3.11740562e-02  6.48162439e-02\n",
      "  -1.44808754e-01  5.62629588e-02  9.01720766e-03 -3.06060240e-02\n",
      "  -1.28591597e-01  5.38842715e-02  6.29069060e-02 -5.26045188e-02\n",
      "   6.18697889e-02  1.27504528e-01  7.34147877e-02  5.27038425e-02\n",
      "  -2.09501460e-02  2.61890087e-02  3.65430750e-02 -2.60587111e-02\n",
      "  -2.43187416e-02  5.69358990e-02  2.92121079e-02 -1.24326892e-01\n",
      "  -1.78401452e-02 -2.76952162e-02 -3.53301913e-02  2.90653855e-02\n",
      "   5.27152419e-02 -1.43648043e-01  1.13648377e-01  4.41884398e-02]]\n"
     ]
    }
   ],
   "source": [
    "model_dir = 'ernie-m-large/infer_model'\n",
    "device='cpu'\n",
    "max_seq_length=150\n",
    "use_tensorrt = False\n",
    "batch_size =32 \n",
    "precision = 'fp32'\n",
    "cpu_threads = 1\n",
    "enable_mkldnn =False\n",
    "predictor = RecallPredictor(model_dir, device, max_seq_length,\n",
    "                          batch_size, use_tensorrt, precision,\n",
    "                          cpu_threads, enable_mkldnn)\n",
    "\n",
    "\n",
    "id2corpus = {0: '国有企业引入非国有资本对创新绩效的影响——基于制造业国有上市公司的经验证据'}\n",
    "corpus_list = [{idx: text} for idx, text in id2corpus.items()]\n",
    "res = predictor.extract_embedding(corpus_list, tokenizer)\n",
    "print('抽取向量')\n",
    "print(res.shape)\n",
    "print(res)"
   ]
  }
 ],
 "metadata": {
  "kernelspec": {
   "display_name": "Python 3",
   "language": "python",
   "name": "py35-paddle1.2.0"
  },
  "language_info": {
   "codemirror_mode": {
    "name": "ipython",
    "version": 3
   },
   "file_extension": ".py",
   "mimetype": "text/x-python",
   "name": "python",
   "nbconvert_exporter": "python",
   "pygments_lexer": "ipython3",
   "version": "3.7.4"
  }
 },
 "nbformat": 4,
 "nbformat_minor": 5
}
