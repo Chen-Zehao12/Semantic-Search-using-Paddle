{
 "cells": [
  {
   "cell_type": "markdown",
   "id": "f7eb298a",
   "metadata": {},
   "source": [
    "**This is based on my data, you should change this code.**"
   ]
  },
  {
   "cell_type": "code",
   "execution_count": null,
   "id": "4a4431dc-1eb7-4707-a9f0-421d879af326",
   "metadata": {},
   "outputs": [],
   "source": [
    "import os\n",
    "import json\n",
    "from tqdm import tqdm\n",
    "import pandas as pd\n",
    "import re"
   ]
  },
  {
   "cell_type": "code",
   "execution_count": null,
   "id": "7bfb0ff3-4fd7-4054-9f52-32a81b34bb2b",
   "metadata": {},
   "outputs": [],
   "source": [
    "import warnings\n",
    "warnings.filterwarnings('ignore')"
   ]
  },
  {
   "cell_type": "code",
   "execution_count": null,
   "id": "21100a76-3350-4ccd-bd5b-a9ed1ff528a7",
   "metadata": {},
   "outputs": [],
   "source": [
    "path = 'data/English/'\n",
    "json_file_names = []\n",
    "for file_name in os.listdir(path):\n",
    "    if file_name[-5:] == '.json':\n",
    "        json_file_names.append(file_name)"
   ]
  },
  {
   "cell_type": "code",
   "execution_count": null,
   "id": "63379e18-fa01-4482-96d9-e59c8f4b7b91",
   "metadata": {},
   "outputs": [],
   "source": [
    "def remove_html(html):\n",
    "    pattern = re.compile(r'<[^>]+>',re.S)\n",
    "    result = pattern.sub('', html)\n",
    "    return result.strip().replace('\\n', '').replace('\\t', '')"
   ]
  },
  {
   "cell_type": "code",
   "execution_count": null,
   "id": "33bf336a-7d8b-43fe-ab75-abd08b5d64bb",
   "metadata": {},
   "outputs": [],
   "source": [
    "data = pd.DataFrame(columns=['publication_number_sear', 'title', 'abstract_ab', 'ipc_main_stat'])"
   ]
  },
  {
   "cell_type": "code",
   "execution_count": null,
   "id": "69795f7c-71f1-4ea2-a090-4e6bb20c2b38",
   "metadata": {},
   "outputs": [],
   "source": [
    "for json_file_name in json_file_names:\n",
    "    for line in tqdm(open(path + json_file_name, encoding='utf-8')):\n",
    "        line = json.loads(line)\n",
    "        if 'publication_number_sear' in line and 'title' in line and 'abstract_ab' in line and 'ipc_main_stat' in line:\n",
    "            data = data.append({\n",
    "                'publication_number_sear': remove_html(line['publication_number_sear'].strip().replace('\\n', '').replace('\\t', '')),\n",
    "                'title': remove_html(line['title'].strip().replace('\\n', '').replace('\\t', '')),\n",
    "                'abstract_ab': remove_html(line['abstract_ab'].strip().replace('\\n', '').replace('\\t', '')), \n",
    "                'ipc_main_stat': remove_html(line['ipc_main_stat'].strip().replace('\\n', '').replace('\\t', ''))\n",
    "            }, ignore_index=True)\n",
    "    # os.system('rm ' + path + json_file_name)"
   ]
  },
  {
   "cell_type": "code",
   "execution_count": null,
   "id": "e6c3e230-11b6-4451-9ff7-2fbc37dc3f96",
   "metadata": {},
   "outputs": [],
   "source": [
    "for idx in tqdm(range(len(data['abstract_ab']))):\n",
    "    if len(str(data['abstract_ab'][idx])) < 50:\n",
    "        data.drop(index=idx, inplace=True)"
   ]
  },
  {
   "cell_type": "code",
   "execution_count": null,
   "id": "02d4bd39-d5f1-40ad-9598-e8ef2cbe01ac",
   "metadata": {},
   "outputs": [],
   "source": [
    "data.shape"
   ]
  },
  {
   "cell_type": "code",
   "execution_count": null,
   "id": "f192c519-64a8-4418-af49-649a3266df9c",
   "metadata": {},
   "outputs": [],
   "source": [
    "data.head()"
   ]
  },
  {
   "cell_type": "code",
   "execution_count": null,
   "id": "3bff490b-c523-4080-beb6-68bece32cf0e",
   "metadata": {},
   "outputs": [],
   "source": [
    "data['abstract_ab'].map(len).describe()"
   ]
  },
  {
   "cell_type": "code",
   "execution_count": null,
   "id": "6f8da274-2d20-4dd3-964b-eca1914a2bb3",
   "metadata": {},
   "outputs": [],
   "source": [
    "data.to_csv(path + 'data.csv', sep='\\t', index=False)"
   ]
  }
 ],
 "metadata": {
  "kernelspec": {
   "display_name": "Python 3.9.7 ('base')",
   "language": "python",
   "name": "python3"
  },
  "language_info": {
   "codemirror_mode": {
    "name": "ipython",
    "version": 3
   },
   "file_extension": ".py",
   "mimetype": "text/x-python",
   "name": "python",
   "nbconvert_exporter": "python",
   "pygments_lexer": "ipython3",
   "version": "3.9.7"
  },
  "vscode": {
   "interpreter": {
    "hash": "ad2bdc8ecc057115af97d19610ffacc2b4e99fae6737bb82f5d7fb13d2f2c186"
   }
  }
 },
 "nbformat": 4,
 "nbformat_minor": 5
}
