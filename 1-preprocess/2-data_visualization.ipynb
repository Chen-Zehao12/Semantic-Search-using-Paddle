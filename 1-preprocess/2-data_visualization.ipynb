{
 "cells": [
  {
   "cell_type": "markdown",
   "id": "8845ed9e",
   "metadata": {},
   "source": [
    "**This is based on my data, you should change this code.**"
   ]
  },
  {
   "cell_type": "code",
   "execution_count": null,
   "id": "b40cdae6-46fb-4e59-a816-2ff99b95efdc",
   "metadata": {},
   "outputs": [],
   "source": [
    "import pandas as pd\n",
    "import matplotlib\n",
    "import matplotlib.pyplot as plt\n",
    "\n",
    "%matplotlib inline"
   ]
  },
  {
   "cell_type": "code",
   "execution_count": null,
   "id": "b26905c9-e53e-4a26-8bd6-895cd11c528f",
   "metadata": {},
   "outputs": [],
   "source": [
    "path = 'data/English/'"
   ]
  },
  {
   "cell_type": "code",
   "execution_count": null,
   "id": "221bc29b-24c0-406b-b67a-18e2b1326ddd",
   "metadata": {},
   "outputs": [],
   "source": [
    "data = pd.read_csv(path + 'data.csv', sep='\\t')"
   ]
  },
  {
   "cell_type": "code",
   "execution_count": null,
   "id": "e2a2c44a-0714-41fc-9da8-5824c9e25ac7",
   "metadata": {},
   "outputs": [],
   "source": [
    "data.shape"
   ]
  },
  {
   "cell_type": "code",
   "execution_count": null,
   "id": "8cb1326c-defb-4478-acfc-8d2b0b8338d5",
   "metadata": {},
   "outputs": [],
   "source": [
    "data['ipc_main_stat'].map(lambda x: x[0]).value_counts()"
   ]
  },
  {
   "cell_type": "code",
   "execution_count": null,
   "id": "752ef1fd-9f3a-41f0-a494-9604fd7d8206",
   "metadata": {},
   "outputs": [],
   "source": [
    "data['ipc_main_stat'].map(lambda x: x[0]).value_counts(normalize=True).plot(kind='bar')"
   ]
  },
  {
   "cell_type": "code",
   "execution_count": null,
   "id": "62a199a5-8e55-432f-9d6a-6694a5a69b89",
   "metadata": {},
   "outputs": [],
   "source": [
    "# Chinese\n",
    "data['abstract_ab'].map(str).map(len).describe()"
   ]
  },
  {
   "cell_type": "code",
   "execution_count": null,
   "id": "b48f8d95-ff7a-4a47-abd0-9f74dc821ce4",
   "metadata": {},
   "outputs": [],
   "source": [
    "# English\n",
    "data['abstract_ab'].map(str).map(lambda x: x.strip().split()).map(len).describe()"
   ]
  },
  {
   "cell_type": "code",
   "execution_count": null,
   "id": "19f9ad27-5d4d-4e1f-a38a-2759ffbec347",
   "metadata": {},
   "outputs": [],
   "source": [
    "data['abstract_ab'].map(str).map(lambda x: x.strip().split('\\t')).map(len).describe()"
   ]
  }
 ],
 "metadata": {
  "kernelspec": {
   "display_name": "Python 3.9.7 ('base')",
   "language": "python",
   "name": "python3"
  },
  "language_info": {
   "codemirror_mode": {
    "name": "ipython",
    "version": 3
   },
   "file_extension": ".py",
   "mimetype": "text/x-python",
   "name": "python",
   "nbconvert_exporter": "python",
   "pygments_lexer": "ipython3",
   "version": "3.9.7"
  },
  "vscode": {
   "interpreter": {
    "hash": "ad2bdc8ecc057115af97d19610ffacc2b4e99fae6737bb82f5d7fb13d2f2c186"
   }
  }
 },
 "nbformat": 4,
 "nbformat_minor": 5
}
