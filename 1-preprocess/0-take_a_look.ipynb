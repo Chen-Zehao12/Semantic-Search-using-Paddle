{
 "cells": [
  {
   "cell_type": "markdown",
   "id": "f6b92e9d",
   "metadata": {},
   "source": [
    "**This is based on my data, you should change this code.**"
   ]
  },
  {
   "cell_type": "code",
   "execution_count": null,
   "id": "9b9cbdf8-3c71-44ca-80b3-2e65350fb3bd",
   "metadata": {},
   "outputs": [],
   "source": [
    "import os\n",
    "import json\n",
    "import re"
   ]
  },
  {
   "cell_type": "code",
   "execution_count": null,
   "id": "669ca671-4e2a-4560-8b7d-57c14229966c",
   "metadata": {},
   "outputs": [],
   "source": [
    "import warnings\n",
    "warnings.filterwarnings('ignore')"
   ]
  },
  {
   "cell_type": "code",
   "execution_count": null,
   "id": "473e46d6-3cef-43bf-9973-aa192138c524",
   "metadata": {},
   "outputs": [],
   "source": [
    "path = 'data/English/'\n",
    "json_file_names = []\n",
    "for file_name in os.listdir(path):\n",
    "    if file_name[-5:] == '.json':\n",
    "        json_file_names.append(file_name)"
   ]
  },
  {
   "cell_type": "code",
   "execution_count": null,
   "id": "2876259a-a3f3-4f92-8cfd-13fb8ed3c94b",
   "metadata": {},
   "outputs": [],
   "source": [
    "json_file = []\n",
    "for line in open(path + json_file_names[0], encoding='utf-8'):\n",
    "    line = json.loads(line)\n",
    "    json_file.append(line)"
   ]
  },
  {
   "cell_type": "code",
   "execution_count": null,
   "id": "2f36ff7f-27cc-4bfd-a4f7-30d0c3a0a06a",
   "metadata": {},
   "outputs": [],
   "source": [
    "def remove_html(html):\n",
    "    pattern = re.compile(r'<[^>]+>',re.S)\n",
    "    result = pattern.sub('', html)\n",
    "    return result"
   ]
  },
  {
   "cell_type": "code",
   "execution_count": null,
   "id": "b137622b-b1c7-4b96-b63a-ed62fc6d4f7f",
   "metadata": {},
   "outputs": [],
   "source": [
    "json_file[1].keys()"
   ]
  },
  {
   "cell_type": "code",
   "execution_count": null,
   "id": "33006179-2492-41dc-83ee-615d64801ae1",
   "metadata": {},
   "outputs": [],
   "source": [
    "json_file[1]"
   ]
  },
  {
   "cell_type": "code",
   "execution_count": null,
   "id": "05b9ffa1-dc33-4b82-9f63-c985d956ac25",
   "metadata": {},
   "outputs": [],
   "source": [
    "json_file[1]['title']"
   ]
  },
  {
   "cell_type": "code",
   "execution_count": null,
   "id": "3cc98bee-14f7-48d6-a4dd-edcc64737255",
   "metadata": {},
   "outputs": [],
   "source": [
    "remove_html(json_file[1]['abstract_ab'].strip().replace('\\t', '').replace('\\n', ''))"
   ]
  }
 ],
 "metadata": {
  "kernelspec": {
   "display_name": "Python 3.9.7 ('base')",
   "language": "python",
   "name": "python3"
  },
  "language_info": {
   "codemirror_mode": {
    "name": "ipython",
    "version": 3
   },
   "file_extension": ".py",
   "mimetype": "text/x-python",
   "name": "python",
   "nbconvert_exporter": "python",
   "pygments_lexer": "ipython3",
   "version": "3.9.7"
  },
  "vscode": {
   "interpreter": {
    "hash": "ad2bdc8ecc057115af97d19610ffacc2b4e99fae6737bb82f5d7fb13d2f2c186"
   }
  }
 },
 "nbformat": 4,
 "nbformat_minor": 5
}
