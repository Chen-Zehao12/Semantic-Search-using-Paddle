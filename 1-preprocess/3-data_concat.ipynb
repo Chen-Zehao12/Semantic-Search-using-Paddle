{
 "cells": [
  {
   "cell_type": "markdown",
   "id": "1da7da23",
   "metadata": {},
   "source": [
    "**This is based on my data, you should change this code.**"
   ]
  },
  {
   "cell_type": "markdown",
   "id": "90669205",
   "metadata": {},
   "source": [
    "Use this code to concat monolingual data into a multilingual data"
   ]
  },
  {
   "cell_type": "markdown",
   "id": "d00e49e0",
   "metadata": {},
   "source": [
    "Make sure that there is no `\\t` in data"
   ]
  },
  {
   "cell_type": "markdown",
   "id": "547846a0",
   "metadata": {},
   "source": [
    "At last, please copy your result `data.csv` into the next step folder."
   ]
  },
  {
   "cell_type": "code",
   "execution_count": null,
   "id": "05a92df1-7021-4a55-aa59-958812f63911",
   "metadata": {},
   "outputs": [],
   "source": [
    "import pandas as pd\n",
    "import sklearn\n",
    "import os"
   ]
  },
  {
   "cell_type": "code",
   "execution_count": null,
   "id": "d13f2e69-99d9-4ef3-9c35-b994b9a64e1c",
   "metadata": {},
   "outputs": [],
   "source": [
    "data_chinese = pd.read_csv('data/Chinese/data.csv', sep='\\t')\n",
    "data_english = pd.read_csv('data/English/data.csv', sep='\\t')"
   ]
  },
  {
   "cell_type": "code",
   "execution_count": null,
   "id": "b1048f7e-ccc2-4143-8194-ce923e6d8c58",
   "metadata": {},
   "outputs": [],
   "source": [
    "print(data_chinese.shape)\n",
    "print(data_english.shape)"
   ]
  },
  {
   "cell_type": "code",
   "execution_count": null,
   "id": "3f435a20-95d0-453d-882d-b120a99f89f5",
   "metadata": {},
   "outputs": [],
   "source": [
    "data = pd.concat([data_chinese, data_english], ignore_index=True)"
   ]
  },
  {
   "cell_type": "code",
   "execution_count": null,
   "id": "567592b1-1938-4a53-8376-4a13d8b13ce5",
   "metadata": {},
   "outputs": [],
   "source": [
    "data.shape"
   ]
  },
  {
   "cell_type": "code",
   "execution_count": null,
   "id": "2b1f3095-14c5-4bb5-9b46-7cab6fa148f3",
   "metadata": {},
   "outputs": [],
   "source": [
    "# shuffle data\n",
    "data = sklearn.utils.shuffle(data)"
   ]
  },
  {
   "cell_type": "code",
   "execution_count": null,
   "id": "4ed39d77-619b-4ff2-aa52-53f78ba3d4c7",
   "metadata": {},
   "outputs": [],
   "source": [
    "data.head()"
   ]
  },
  {
   "cell_type": "code",
   "execution_count": null,
   "id": "e556094e-2a35-4b27-8b3d-4241096b5a0b",
   "metadata": {},
   "outputs": [],
   "source": [
    "if not os.path.isdir('data/multilingual'):\n",
    "    os.mkdir('data/multilingual')"
   ]
  },
  {
   "cell_type": "code",
   "execution_count": null,
   "id": "54dd0156-5b61-4d39-8e85-907a8b3dc617",
   "metadata": {},
   "outputs": [],
   "source": [
    "data.to_csv('data/multilingual/data.csv', sep='\\t', index=False)"
   ]
  }
 ],
 "metadata": {
  "kernelspec": {
   "display_name": "Python 3.9.7 ('base')",
   "language": "python",
   "name": "python3"
  },
  "language_info": {
   "codemirror_mode": {
    "name": "ipython",
    "version": 3
   },
   "file_extension": ".py",
   "mimetype": "text/x-python",
   "name": "python",
   "nbconvert_exporter": "python",
   "pygments_lexer": "ipython3",
   "version": "3.9.7"
  },
  "vscode": {
   "interpreter": {
    "hash": "ad2bdc8ecc057115af97d19610ffacc2b4e99fae6737bb82f5d7fb13d2f2c186"
   }
  }
 },
 "nbformat": 4,
 "nbformat_minor": 5
}
